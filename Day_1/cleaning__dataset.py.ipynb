{
 "cells": [
  {
   "cell_type": "code",
   "execution_count": null,
   "id": "11e8b05c-9e44-40fe-852a-a5974b7409e4",
   "metadata": {},
   "outputs": [
    {
     "name": "stdout",
     "output_type": "stream",
     "text": [
      "✅ Cleaned dataset saved as 'Cleaned_Dataset.csv'\n"
     ]
    }
   ],
   "source": [
    "import pandas as pd\n",
    "import numpy as np\n",
    "\n",
    "# Load dataset\n",
    "df = pd.read_csv(\"your_dataset.csv\") \n",
    "\n",
    "# 1. Clean column headers to be lowercase and underscored\n",
    "df.columns = df.columns.str.lower().str.strip().str.replace(\" \", \"_\")\n",
    "\n",
    "# 2. Standardize gender values\n",
    "df['gender'] = df['gender'].str.lower().str.strip()\n",
    "df['gender'] = df['gender'].replace({\n",
    "    'm': 'male', 'male': 'male',\n",
    "    'f': 'female', 'female': 'female'\n",
    "})\n",
    "\n",
    "# 3. Standardize country names\n",
    "df['country'] = df['country'].str.lower().str.strip()\n",
    "df['country'] = df['country'].replace({\n",
    "    'u.s.a': 'usa',\n",
    "    'united states': 'usa',\n",
    "    'usa': 'usa',\n",
    "    'india': 'india'\n",
    "})\n",
    "\n",
    "# 4. Convert 'date_of_birth' to datetime format (and handle errors)\n",
    "df['date_of_birth'] = pd.to_datetime(df['date_of_birth'], errors='coerce', dayfirst=True)\n",
    "\n",
    "# 5. Fill missing age values using year from DOB\n",
    "df['age'] = df.apply(\n",
    "    lambda row: 2025 - row['date_of_birth'].year if pd.isnull(row['age']) and pd.notnull(row['date_of_birth']) else row['age'],\n",
    "    axis=1\n",
    ")\n",
    "\n",
    "# 6. Fix age data type to Int (nullable)\n",
    "df['age'] = pd.to_numeric(df['age'], errors='coerce').astype('Int64')\n",
    "\n",
    "# 7. Drop duplicate rows\n",
    "df = df.drop_duplicates()\n",
    "\n",
    "# 8. Drop rows missing essential fields\n",
    "df = df.dropna(subset=['full_name', 'gender', 'country'])\n",
    "\n",
    "# 9. Format date to dd-mm-yyyy before saving\n",
    "df['date_of_birth'] = df['date_of_birth'].dt.strftime('%d-%m-%Y')\n",
    "\n",
    "# 10. Save the cleaned dataset\n",
    "df.to_csv(\"Cleaned_Dataset.csv\", index=False)\n",
    "print(\" Cleaned dataset saved as 'Cleaned_Dataset.csv'\")\n"
   ]
  },
  {
   "cell_type": "code",
   "execution_count": null,
   "id": "5555a9c2-a3ab-4bc6-8220-a8674fa2be8c",
   "metadata": {},
   "outputs": [],
   "source": []
  }
 ],
 "metadata": {
  "kernelspec": {
   "display_name": "Python 3 (ipykernel)",
   "language": "python",
   "name": "python3"
  },
  "language_info": {
   "codemirror_mode": {
    "name": "ipython",
    "version": 3
   },
   "file_extension": ".py",
   "mimetype": "text/x-python",
   "name": "python",
   "nbconvert_exporter": "python",
   "pygments_lexer": "ipython3",
   "version": "3.10.11"
  }
 },
 "nbformat": 4,
 "nbformat_minor": 5
}
